{
 "cells": [
  {
   "cell_type": "markdown",
   "source": [
    "# Import library"
   ],
   "metadata": {}
  },
  {
   "cell_type": "code",
   "execution_count": null,
   "source": [
    "import pandas as pd\r\n",
    "import matplotlib.pyplot as plt\r\n",
    "import numpy as np"
   ],
   "outputs": [],
   "metadata": {}
  },
  {
   "cell_type": "markdown",
   "source": [
    "# Loading data"
   ],
   "metadata": {}
  },
  {
   "cell_type": "code",
   "execution_count": null,
   "source": [
    "df = pd.read_csv('dataset_Twitter\\combine2.csv')\r\n",
    "df"
   ],
   "outputs": [],
   "metadata": {}
  },
  {
   "cell_type": "code",
   "execution_count": null,
   "source": [
    "x = df.iloc[:,1:-1]\r\n",
    "y = df.iloc[:,-1]"
   ],
   "outputs": [],
   "metadata": {}
  },
  {
   "cell_type": "code",
   "execution_count": null,
   "source": [
    "print(x)"
   ],
   "outputs": [],
   "metadata": {}
  },
  {
   "cell_type": "code",
   "execution_count": null,
   "source": [
    "print(y)"
   ],
   "outputs": [],
   "metadata": {}
  },
  {
   "cell_type": "markdown",
   "source": [
    "# Labelencoding"
   ],
   "metadata": {}
  },
  {
   "cell_type": "code",
   "execution_count": null,
   "source": [
    "# labelencoding\r\n",
    "from sklearn.preprocessing import LabelEncoder\r\n",
    "le = LabelEncoder()\r\n",
    "y = le.fit_transform(y)\r\n",
    "print(y)"
   ],
   "outputs": [],
   "metadata": {}
  },
  {
   "cell_type": "markdown",
   "source": [
    "# Splitting Dataset into Train and Test"
   ],
   "metadata": {}
  },
  {
   "cell_type": "code",
   "execution_count": null,
   "source": [
    "from sklearn.model_selection import train_test_split\r\n",
    "\r\n",
    "x_train, x_test, y_train, y_test = train_test_split(x,y,test_size=0.3,random_state=27)"
   ],
   "outputs": [],
   "metadata": {}
  },
  {
   "cell_type": "markdown",
   "source": [
    "# Support Vector Machine (SVM)"
   ],
   "metadata": {}
  },
  {
   "cell_type": "code",
   "execution_count": null,
   "source": [
    "from sklearn.svm import SVC\r\n",
    "\r\n",
    "#Calling the Class\r\n",
    "sv = SVC(kernel='rbf')\r\n",
    "\r\n",
    "#Fitting the data to the classifier\r\n",
    "sv.fit(x_train,y_train)\r\n",
    " \r\n",
    "#Predict on test data\r\n",
    "pred1 = sv.predict(x_test)"
   ],
   "outputs": [],
   "metadata": {}
  },
  {
   "cell_type": "code",
   "execution_count": null,
   "source": [
    "pred1"
   ],
   "outputs": [],
   "metadata": {}
  },
  {
   "cell_type": "markdown",
   "source": [
    "# LogisticRegression"
   ],
   "metadata": {}
  },
  {
   "cell_type": "code",
   "execution_count": null,
   "source": [
    "from sklearn.linear_model import LogisticRegression\r\n",
    "\r\n",
    "#Calling the Class\r\n",
    "LR = LogisticRegression()\r\n",
    "\r\n",
    "#Fitting the data to the classifier\r\n",
    "LR.fit(x_train,y_train)\r\n",
    " \r\n",
    "#Predict on test data\r\n",
    "pred2 = LR.predict(x_test)"
   ],
   "outputs": [],
   "metadata": {}
  },
  {
   "cell_type": "markdown",
   "source": [
    "# Naive Bayes"
   ],
   "metadata": {}
  },
  {
   "cell_type": "code",
   "execution_count": null,
   "source": [
    "from sklearn.naive_bayes import GaussianNB\r\n",
    "\r\n",
    "#Calling the Class\r\n",
    "nb = GaussianNB()\r\n",
    "\r\n",
    "#Fitting the data to the classifier\r\n",
    "nb.fit(x_train, y_train)\r\n",
    " \r\n",
    "#Predict on test data\r\n",
    "pred3 = nb.predict(x_test)"
   ],
   "outputs": [],
   "metadata": {}
  },
  {
   "cell_type": "markdown",
   "source": [
    "# Confusion matrix"
   ],
   "metadata": {}
  },
  {
   "cell_type": "code",
   "execution_count": null,
   "source": [
    "from sklearn.metrics import confusion_matrix\r\n",
    "from sklearn.metrics import plot_confusion_matrix\r\n",
    "\r\n",
    "cm1=confusion_matrix(y_test, pred1)\r\n",
    "print(cm1)\r\n",
    "\r\n",
    "# for SVM \r\n",
    "\r\n",
    "plt.clf()\r\n",
    "plt.imshow(cm1, interpolation='nearest', cmap=plt.cm.Wistia)\r\n",
    "classNames = ['Fake','Genuine']\r\n",
    "plt.title('Confusion matrix(SVM)')\r\n",
    "plt.ylabel('True label')\r\n",
    "plt.xlabel('Predicted label')\r\n",
    "tick_marks = np.arange(len(classNames))\r\n",
    "plt.xticks(tick_marks, classNames, rotation=45)\r\n",
    "plt.yticks(tick_marks, classNames)\r\n",
    "s = [['TP', 'FP'], ['FN', 'TN']]\r\n",
    "for i in range(2):\r\n",
    "    for j in range(2):\r\n",
    "        plt.text(j,i, str(s[i][j])+\" = \"+str(cm1[i][j]))\r\n",
    "plt.show()"
   ],
   "outputs": [],
   "metadata": {}
  },
  {
   "cell_type": "code",
   "execution_count": null,
   "source": [
    "cm2=confusion_matrix(y_test, pred2)\r\n",
    "print(cm2)\r\n",
    "\r\n",
    "# for LogisticRegression\r\n",
    "\r\n",
    "plt.clf()\r\n",
    "plt.imshow(cm2, interpolation='nearest', cmap=plt.cm.Wistia)\r\n",
    "classNames = ['Fake','Genuine']\r\n",
    "plt.title('Confusion matrix(LogisticRegression)')\r\n",
    "plt.ylabel('True label')\r\n",
    "plt.xlabel('Predicted label')\r\n",
    "tick_marks = np.arange(len(classNames))\r\n",
    "plt.xticks(tick_marks, classNames, rotation=45)\r\n",
    "plt.yticks(tick_marks, classNames)\r\n",
    "s = [['TP', 'FP'], ['FN', 'TN']]\r\n",
    "for i in range(2):\r\n",
    "    for j in range(2):\r\n",
    "        plt.text(j,i, str(s[i][j])+\" = \"+str(cm2[i][j]))\r\n",
    "plt.show()"
   ],
   "outputs": [],
   "metadata": {}
  },
  {
   "cell_type": "code",
   "execution_count": null,
   "source": [
    "cm3=confusion_matrix(y_test, pred3)\r\n",
    "print(cm3)\r\n",
    "\r\n",
    "# for Naive Bayes\r\n",
    "\r\n",
    "plt.clf()\r\n",
    "plt.imshow(cm3, interpolation='nearest', cmap=plt.cm.Wistia)\r\n",
    "classNames = ['Fake','Genuine']\r\n",
    "plt.title('Confusion matrix(Naive Bayes)')\r\n",
    "plt.ylabel('True label')\r\n",
    "plt.xlabel('Predicted label')\r\n",
    "tick_marks = np.arange(len(classNames))\r\n",
    "plt.xticks(tick_marks, classNames, rotation=45)\r\n",
    "plt.yticks(tick_marks, classNames)\r\n",
    "s = [['TP', 'FP'], ['FN', 'TN']]\r\n",
    "for i in range(2):\r\n",
    "    for j in range(2):\r\n",
    "        plt.text(j,i, str(s[i][j])+\" = \"+str(cm3[i][j]))\r\n",
    "plt.show()"
   ],
   "outputs": [],
   "metadata": {}
  },
  {
   "cell_type": "markdown",
   "source": [
    "# ROC curve"
   ],
   "metadata": {}
  },
  {
   "cell_type": "code",
   "execution_count": null,
   "source": [
    "from sklearn.metrics import roc_curve,auc,roc_auc_score\r\n",
    "import matplotlib.pyplot as plt\r\n",
    "\r\n",
    "# roc curve for models\r\n",
    "sv_fpr, sv_tpr, thresh1 = roc_curve(y_test, pred1)\r\n",
    "lr_fpr, lr_tpr, thresh2 = roc_curve(y_test, pred2)\r\n",
    "nb_fpr, nb_tpr, thresh3 = roc_curve(y_test, pred3)\r\n",
    "\r\n",
    "# auc scores\r\n",
    "auc_score1 = roc_auc_score(y_test, pred1)*100\r\n",
    "auc_score2 = roc_auc_score(y_test, pred2)*100\r\n",
    "auc_score3 = roc_auc_score(y_test, pred3)*100\r\n",
    "\r\n",
    "# plot roc curves\r\n",
    "plt.plot(sv_fpr, sv_tpr, linestyle='--',color='red', label='SVM  = %0.2f'% auc_score1)\r\n",
    "plt.plot(lr_fpr, lr_tpr, linestyle='--',color='black', label='Logistic Regression = %0.2f'% auc_score2)\r\n",
    "plt.plot(nb_fpr, nb_tpr, linestyle='--',color='green', label='naive_bayes = %0.2f'% auc_score3)\r\n",
    "\r\n",
    "# title\r\n",
    "plt.title('ROC curve')\r\n",
    "\r\n",
    "# x label\r\n",
    "plt.xlabel('False Positive Rate')\r\n",
    "\r\n",
    "# y label\r\n",
    "plt.ylabel('True Positive rate')\r\n",
    "\r\n",
    "plt.legend(loc='best')\r\n",
    "plt.savefig('ROC',dpi=300)\r\n",
    "plt.show()"
   ],
   "outputs": [],
   "metadata": {}
  },
  {
   "cell_type": "markdown",
   "source": [
    "### Dump the data(save it)"
   ],
   "metadata": {}
  },
  {
   "cell_type": "code",
   "execution_count": null,
   "source": [
    "import pickle\r\n",
    "pickle.dump(sv,open('model.pkl','wb'))"
   ],
   "outputs": [],
   "metadata": {}
  }
 ],
 "metadata": {
  "orig_nbformat": 4,
  "language_info": {
   "name": "python",
   "version": "3.8.8",
   "mimetype": "text/x-python",
   "codemirror_mode": {
    "name": "ipython",
    "version": 3
   },
   "pygments_lexer": "ipython3",
   "nbconvert_exporter": "python",
   "file_extension": ".py"
  },
  "kernelspec": {
   "name": "python3",
   "display_name": "Python 3.8.8 64-bit ('base': conda)"
  },
  "interpreter": {
   "hash": "3e039bb03fb47b37754bd93087d4111cd3a785c2f286a9c5d4fec1af4445acd0"
  }
 },
 "nbformat": 4,
 "nbformat_minor": 2
}